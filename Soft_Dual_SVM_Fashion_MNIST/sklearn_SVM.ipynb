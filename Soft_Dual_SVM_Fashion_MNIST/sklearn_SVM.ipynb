{
 "cells": [
  {
   "cell_type": "code",
   "execution_count": 1,
   "metadata": {},
   "outputs": [],
   "source": [
    "import numpy as np\n",
    "from sklearn.svm import SVC\n",
    "import pandas as pd\n",
    "from imblearn.over_sampling import RandomOverSampler\n",
    "from sklearn.preprocessing import StandardScaler"
   ]
  },
  {
   "cell_type": "code",
   "execution_count": 2,
   "metadata": {},
   "outputs": [],
   "source": [
    "\"\"\"\n",
    "this is the code you need to run to import the data. \n",
    "You just have to change line 40 putting the correct path.\n",
    "\"\"\"\n",
    "\n",
    "train = pd.read_csv('fashion-mnist_train.csv')\n",
    "test = pd.read_csv('fashion-mnist_test.csv')\n",
    "\n",
    "indexes = [2,3]\n",
    "\n",
    "train_set = train[train['label'].isin(indexes)]\n",
    "test_set = test[test['label'].isin(indexes)]\n",
    "\n",
    "X_Train = train_set.values[:,1:]\n",
    "Y_Train = train_set.values[:,0]\n",
    "\n",
    "X_Test = test_set.values[:,1:]\n",
    "Y_Test = test_set.values[:,0]\n",
    "\n",
    "ind_2 = np.where(Y_Train==2)\n",
    "ind_2_Test = np.where(Y_Test==2)\n",
    "\n",
    "ind_3 = np.where(Y_Train==3)\n",
    "ind_3_Test = np.where(Y_Test==3)\n",
    "\n",
    "X2 = X_Train[ind_2[0][:1000]]\n",
    "Y2 = np.ones(1000)\n",
    "\n",
    "X3 = X_Train[ind_3[0][:1000]]\n",
    "Y3 = -np.ones(1000)\n",
    "\n",
    "X2test = X_Test[ind_2_Test[0][:200]]\n",
    "Y2test = np.ones(X2test.shape[0])\n",
    "\n",
    "X3test = X_Test[ind_3_Test[0][:200]]\n",
    "Y3test = -np.ones(X3test.shape[0])\n",
    "\n",
    "\n",
    "X_Train = np.concatenate((X2,X3))\n",
    "Y_Train = np.concatenate((Y2,Y3))\n",
    "\n",
    "\n",
    "X_Test = np.concatenate((X2test,X3test))\n",
    "Y_Test = np.concatenate((Y2test,Y3test))"
   ]
  },
  {
   "cell_type": "code",
   "execution_count": 3,
   "metadata": {},
   "outputs": [],
   "source": [
    "Y_Train = Y_Train.astype(int)"
   ]
  },
  {
   "cell_type": "code",
   "execution_count": 4,
   "metadata": {},
   "outputs": [
    {
     "name": "stdout",
     "output_type": "stream",
     "text": [
      "1000\n",
      "1000\n"
     ]
    }
   ],
   "source": [
    "# Check oversampling\n",
    "k = 0\n",
    "j = 0\n",
    "for i in Y_Train:\n",
    "    if i == 1:\n",
    "        k += 1\n",
    "    else:\n",
    "        j += 1\n",
    "print(k)\n",
    "print(j)"
   ]
  },
  {
   "cell_type": "code",
   "execution_count": 5,
   "metadata": {},
   "outputs": [],
   "source": [
    "def scale_dataset(X, y, oversample=False):\n",
    "    scaler = StandardScaler()\n",
    "    X = scaler.fit_transform(X)\n",
    "     \n",
    "    if oversample:\n",
    "        ros = RandomOverSampler()\n",
    "        X, y = ros.fit_resample(X, y)\n",
    "\n",
    "    data = np.hstack((X, np.reshape(y, (len(y), 1))))\n",
    "    \n",
    "    return data, X, y"
   ]
  },
  {
   "cell_type": "code",
   "execution_count": 6,
   "metadata": {},
   "outputs": [],
   "source": [
    "train, x_train, y_train = scale_dataset(X_Train, Y_Train)\n",
    "test, x_test, y_test = scale_dataset(X_Test, Y_Test)"
   ]
  },
  {
   "cell_type": "code",
   "execution_count": 7,
   "metadata": {},
   "outputs": [],
   "source": [
    "y_train = y_train.astype(float)\n",
    "y_test = y_test.astype(float)"
   ]
  },
  {
   "cell_type": "code",
   "execution_count": 8,
   "metadata": {},
   "outputs": [],
   "source": [
    "# K_fold cross validation\n",
    "def k_fold_cross_validation(data, num_folds):\n",
    "    fold_size = len(data) // num_folds\n",
    "    fold_indices = np.arange(len(data))\n",
    "    np.random.seed(2108602)\n",
    "    np.random.shuffle(fold_indices)\n",
    "\n",
    "    folds_data = {}\n",
    "\n",
    "    for i in range(num_folds):\n",
    "        validation_indices = fold_indices[i * fold_size : (i + 1) * fold_size]\n",
    "        train_indices = np.concatenate([fold_indices[:i * fold_size], fold_indices[(i + 1) * fold_size:]])\n",
    "\n",
    "        folds_data[i] = {\n",
    "            'train': data[train_indices],\n",
    "            'validation': data[validation_indices]\n",
    "        }\n",
    "\n",
    "    return folds_data"
   ]
  },
  {
   "cell_type": "code",
   "execution_count": 9,
   "metadata": {},
   "outputs": [],
   "source": [
    "n_folds = 5\n",
    "folds = k_fold_cross_validation(train, n_folds)"
   ]
  },
  {
   "cell_type": "code",
   "execution_count": 10,
   "metadata": {},
   "outputs": [
    {
     "name": "stdout",
     "output_type": "stream",
     "text": [
      "Fold number:  0\n",
      "Fold: 0, Acc.: 0.9775\n",
      "Fold number:  1\n",
      "Fold: 1, Acc.: 0.97\n",
      "Fold number:  2\n",
      "Fold: 2, Acc.: 0.96\n",
      "Fold number:  3\n",
      "Fold: 3, Acc.: 0.985\n",
      "Fold number:  4\n",
      "Fold: 4, Acc.: 0.9775\n"
     ]
    }
   ],
   "source": [
    "for i in np.arange(len(folds)):\n",
    "    print(\"Fold number: \", i)\n",
    "    k_t = folds[i]['train']\n",
    "    k_v = folds[i]['validation']\n",
    "    x_train = k_t[:, :-1]\n",
    "    y_train = k_t[:, -1]\n",
    "    x_valid = k_v[:, :-1]\n",
    "    y_valid = k_v[:, -1]\n",
    "    svm_model = SVC()\n",
    "    svm_model.fit(x_train, y_train)\n",
    "    y_hat = svm_model.predict(x_valid)\n",
    "    accuracy = np.sum(y_valid == y_hat) / len(y_valid)\n",
    "    print(f\"Fold: {i}, Acc.: {accuracy}\")"
   ]
  },
  {
   "cell_type": "code",
   "execution_count": 11,
   "metadata": {},
   "outputs": [
    {
     "name": "stdout",
     "output_type": "stream",
     "text": [
      "0.975\n"
     ]
    }
   ],
   "source": [
    "k_t = folds[3]['train']\n",
    "k_v = folds[3]['validation']\n",
    "x_train = k_t[:, :-1]\n",
    "y_train = k_t[:, -1]\n",
    "best_model = svm_model.fit(x_train, y_train)\n",
    "y_hat = svm_model.predict(x_test)\n",
    "accuracy = np.sum(y_test == y_hat) / len(y_test)\n",
    "print(accuracy)\n"
   ]
  }
 ],
 "metadata": {
  "kernelspec": {
   "display_name": "Python 3",
   "language": "python",
   "name": "python3"
  },
  "language_info": {
   "codemirror_mode": {
    "name": "ipython",
    "version": 3
   },
   "file_extension": ".py",
   "mimetype": "text/x-python",
   "name": "python",
   "nbconvert_exporter": "python",
   "pygments_lexer": "ipython3",
   "version": "3.10.5"
  }
 },
 "nbformat": 4,
 "nbformat_minor": 2
}
