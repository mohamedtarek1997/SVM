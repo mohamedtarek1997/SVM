{
 "cells": [
  {
   "cell_type": "code",
   "execution_count": 25,
   "metadata": {},
   "outputs": [],
   "source": [
    "import numpy as np \n",
    "import pandas as pd\n",
    "from imblearn.over_sampling import RandomOverSampler\n",
    "from sklearn.preprocessing import StandardScaler\n",
    "import cvxopt\n",
    "import cvxopt.solvers"
   ]
  },
  {
   "cell_type": "code",
   "execution_count": 26,
   "metadata": {},
   "outputs": [],
   "source": [
    "\"\"\"\n",
    "this is the code you need to run to import the data. \n",
    "You just have to change line 40 putting the correct path.\n",
    "\"\"\"\n",
    "\n",
    "train = pd.read_csv('fashion-mnist_train.csv')\n",
    "test = pd.read_csv('fashion-mnist_test.csv')\n",
    "\n",
    "indexes = [2,3]\n",
    "\n",
    "train_set = train[train['label'].isin(indexes)]\n",
    "test_set = test[test['label'].isin(indexes)]\n",
    "\n",
    "X_Train = train_set.values[:,1:]\n",
    "Y_Train = train_set.values[:,0]\n",
    "\n",
    "X_Test = test_set.values[:,1:]\n",
    "Y_Test = test_set.values[:,0]\n",
    "\n",
    "ind_2 = np.where(Y_Train==2)\n",
    "ind_2_Test = np.where(Y_Test==2)\n",
    "\n",
    "ind_3 = np.where(Y_Train==3)\n",
    "ind_3_Test = np.where(Y_Test==3)\n",
    "\n",
    "X2 = X_Train[ind_2[0][:1000]]\n",
    "Y2 = np.ones(1000)\n",
    "\n",
    "X3 = X_Train[ind_3[0][:1000]]\n",
    "Y3 = -np.ones(1000)\n",
    "\n",
    "X2test = X_Test[ind_2_Test[0][:200]]\n",
    "Y2test = np.ones(X2test.shape[0])\n",
    "\n",
    "X3test = X_Test[ind_3_Test[0][:200]]\n",
    "Y3test = -np.ones(X3test.shape[0])\n",
    "\n",
    "\n",
    "X_Train = np.concatenate((X2,X3))\n",
    "Y_Train = np.concatenate((Y2,Y3))\n",
    "\n",
    "\n",
    "X_Test = np.concatenate((X2test,X3test))\n",
    "Y_Test = np.concatenate((Y2test,Y3test))"
   ]
  },
  {
   "cell_type": "code",
   "execution_count": 27,
   "metadata": {},
   "outputs": [
    {
     "name": "stdout",
     "output_type": "stream",
     "text": [
      "(2000, 784)\n",
      "(400, 784)\n",
      "(2000,)\n",
      "(400,)\n"
     ]
    }
   ],
   "source": [
    "print(X_Train.shape)\n",
    "print(X_Test.shape)\n",
    "print(Y_Train.shape)\n",
    "print(Y_Test.shape)"
   ]
  },
  {
   "cell_type": "code",
   "execution_count": 28,
   "metadata": {},
   "outputs": [],
   "source": [
    "Y_Train = Y_Train.astype(int)"
   ]
  },
  {
   "cell_type": "code",
   "execution_count": 29,
   "metadata": {},
   "outputs": [
    {
     "name": "stdout",
     "output_type": "stream",
     "text": [
      "1000\n",
      "1000\n"
     ]
    }
   ],
   "source": [
    "# Check oversampling\n",
    "k = 0\n",
    "j = 0\n",
    "for i in Y_Train:\n",
    "    if i == 1:\n",
    "        k += 1\n",
    "    else:\n",
    "        j += 1\n",
    "print(k)\n",
    "print(j)"
   ]
  },
  {
   "cell_type": "code",
   "execution_count": 30,
   "metadata": {},
   "outputs": [],
   "source": [
    "def scale_dataset(X, y, oversample=False):\n",
    "    scaler = StandardScaler()\n",
    "    X = scaler.fit_transform(X)\n",
    "     \n",
    "    if oversample:\n",
    "        ros = RandomOverSampler()\n",
    "        X, y = ros.fit_resample(X, y)\n",
    "\n",
    "    data = np.hstack((X, np.reshape(y, (len(y), 1))))\n",
    "    \n",
    "    return data, X, y"
   ]
  },
  {
   "cell_type": "code",
   "execution_count": 31,
   "metadata": {},
   "outputs": [],
   "source": [
    "train, x_train, y_train = scale_dataset(X_Train, Y_Train)\n",
    "test, x_test, y_test = scale_dataset(X_Test, Y_Test)"
   ]
  },
  {
   "cell_type": "code",
   "execution_count": 32,
   "metadata": {},
   "outputs": [],
   "source": [
    "y_train = y_train.astype(float)\n",
    "y_test = y_test.astype(float)"
   ]
  },
  {
   "cell_type": "code",
   "execution_count": 33,
   "metadata": {},
   "outputs": [],
   "source": [
    "# K_fold cross validation\n",
    "def k_fold_cross_validation(data, num_folds):\n",
    "    fold_size = len(data) // num_folds\n",
    "    fold_indices = np.arange(len(data))\n",
    "    np.random.seed(2108602)\n",
    "    np.random.shuffle(fold_indices)\n",
    "\n",
    "    folds_data = {}\n",
    "\n",
    "    for i in range(num_folds):\n",
    "        validation_indices = fold_indices[i * fold_size : (i + 1) * fold_size]\n",
    "        train_indices = np.concatenate([fold_indices[:i * fold_size], fold_indices[(i + 1) * fold_size:]])\n",
    "\n",
    "        folds_data[i] = {\n",
    "            'train': data[train_indices],\n",
    "            'validation': data[validation_indices]\n",
    "        }\n",
    "\n",
    "    return folds_data"
   ]
  },
  {
   "cell_type": "code",
   "execution_count": 34,
   "metadata": {},
   "outputs": [],
   "source": [
    "# Kernel Functions\n",
    "def polynomial_kernel(x, y, p = 3):\n",
    "    return (1 + np.dot(x, y)) ** p\n",
    "\n",
    " \n",
    "def gaussian_kernel(x, y, sigma=5.0):\n",
    "    return np.exp(-np.linalg.norm(x-y)**2 / (2 * (sigma ** 2))) "
   ]
  },
  {
   "cell_type": "code",
   "execution_count": 35,
   "metadata": {},
   "outputs": [],
   "source": [
    "def fit(x, y, C, sigma, p=0, gass = True , itr=1000):  \n",
    "    n_samples, n_features = x.shape\n",
    "    K = np.zeros((n_samples, n_samples))\n",
    "    for i in range(n_samples):\n",
    "        for j in range(n_samples):\n",
    "            if gass == True:\n",
    "                K[i,j] = gaussian_kernel(x[i], x[j], sigma)\n",
    "            else:\n",
    "                K[i,j] = polynomial_kernel(x[i], x[j], p)\n",
    "\n",
    "\n",
    "    A = cvxopt.matrix(y_train, (1, n_samples))\n",
    "    P = cvxopt.matrix(np.outer(y,y) * K)\n",
    "    q = cvxopt.matrix(np.ones(n_samples) * -1)\n",
    "    b = cvxopt.matrix(0.0)\n",
    "    G = cvxopt.matrix(np.vstack((np.eye(n_samples) * -1, np.eye(n_samples))))\n",
    "    h = cvxopt.matrix(np.hstack((np.zeros(n_samples), np.ones(n_samples) * C))) \n",
    "\n",
    "    # solve QP problem\n",
    "    cvxopt.solvers.options['maxiters'] = itr\n",
    "    cvxopt.solvers.options['show_progress'] = False\n",
    "    solution = cvxopt.solvers.qp(P, q, G, h, A, b)\n",
    "\n",
    "    # Lagrange multipliers\n",
    "    a = np.ravel(solution['x'])\n",
    "\n",
    "    return solution, a, K"
   ]
  },
  {
   "cell_type": "code",
   "execution_count": 36,
   "metadata": {},
   "outputs": [],
   "source": [
    "# Support vectors have non zero lagrange multipliers\n",
    "def SV(a, x, y, K):\n",
    "    sv = a > 1e-05\n",
    "    ind = np.arange(len(a))[sv]\n",
    "    a = a[sv]\n",
    "    sv_x = x[sv]\n",
    "    sv_y = y[sv]\n",
    "\n",
    "    # Intercept calculation\n",
    "    \"\"\"b = np.sum(sv_y)\n",
    "    b -= np.sum(a * sv_y * K[sv][:, sv])\n",
    "    b /= len(a)\"\"\"\n",
    "    b_sum = 0\n",
    "    for n in range(len(a)):\n",
    "        b_sum += sv_y[n]\n",
    "        b_sum -= np.sum(a * sv_y * K[ind[n], sv])\n",
    "    b = b_sum / len(a)\n",
    "\n",
    "    # Weight calculation\n",
    "    w = np.dot(sv_x.T, a * sv_y)\n",
    "\n",
    "    return a, b, w"
   ]
  },
  {
   "cell_type": "code",
   "execution_count": 37,
   "metadata": {},
   "outputs": [],
   "source": [
    "def predict(X, w, b):\n",
    "    return np.sign(np.dot(X, w) + b) "
   ]
  },
  {
   "cell_type": "code",
   "execution_count": 38,
   "metadata": {},
   "outputs": [],
   "source": [
    "def accuracy(y_true, y_pred):\n",
    "    accuracy = np.sum(y_true == y_pred) / len(y_true)\n",
    "    return accuracy"
   ]
  },
  {
   "cell_type": "code",
   "execution_count": 39,
   "metadata": {},
   "outputs": [
    {
     "data": {
      "text/plain": [
       "'sigma = [5, 7, 9, 12, 15] # 1e-3 : 1\\nC = [0.1, 1, 5, 7, 9] \\nn_folds = 5\\nfolds = k_fold_cross_validation(train, n_folds)\\n\\nfor i in np.arange(len(folds)):\\n    print(\"Fold number: \", i)\\n    k_t = folds[i][\\'train\\']\\n    k_v = folds[i][\\'validation\\']\\n    x_train = k_t[:, :-1]\\n    y_train = k_t[:, -1]\\n    x_valid = k_v[:, :-1]\\n    y_valid = k_v[:, -1]\\n    \\n    for sig in sigma:\\n        for c in C:\\n            solution, a, K = fit(x_train, y_train, c, sig) \\n            a, b, w = SV(a, x_train, y_train, K)  \\n            y_pred = predict(x_valid, w, b)\\n            print(f\"Sigma: {sig}, C: {c}, # SV: {len(a)}, Accuracy: {accuracy(y_valid, y_pred)}\")\\n'"
      ]
     },
     "execution_count": 39,
     "metadata": {},
     "output_type": "execute_result"
    }
   ],
   "source": [
    "'''sigma = [5, 7, 9, 12, 15] # 1e-3 : 1\n",
    "C = [0.1, 1, 5, 7, 9] \n",
    "n_folds = 5\n",
    "folds = k_fold_cross_validation(train, n_folds)\n",
    "\n",
    "for i in np.arange(len(folds)):\n",
    "    print(\"Fold number: \", i)\n",
    "    k_t = folds[i]['train']\n",
    "    k_v = folds[i]['validation']\n",
    "    x_train = k_t[:, :-1]\n",
    "    y_train = k_t[:, -1]\n",
    "    x_valid = k_v[:, :-1]\n",
    "    y_valid = k_v[:, -1]\n",
    "    \n",
    "    for sig in sigma:\n",
    "        for c in C:\n",
    "            solution, a, K = fit(x_train, y_train, c, sig) \n",
    "            a, b, w = SV(a, x_train, y_train, K)  \n",
    "            y_pred = predict(x_valid, w, b)\n",
    "            print(f\"Sigma: {sig}, C: {c}, # SV: {len(a)}, Accuracy: {accuracy(y_valid, y_pred)}\")\n",
    "'''"
   ]
  },
  {
   "cell_type": "code",
   "execution_count": 40,
   "metadata": {},
   "outputs": [],
   "source": [
    "n_folds = 5\n",
    "folds = k_fold_cross_validation(train, n_folds)\n",
    "k_t = folds[4]['train']\n",
    "k_v = folds[4]['validation']\n",
    "x_train = k_t[:, :-1]\n",
    "y_train = k_t[:, -1]"
   ]
  },
  {
   "cell_type": "code",
   "execution_count": 41,
   "metadata": {},
   "outputs": [
    {
     "name": "stdout",
     "output_type": "stream",
     "text": [
      "Accuracy: 0.975\n"
     ]
    }
   ],
   "source": [
    "sigma = 30  # 15\n",
    "C = 1     # 0.1\n",
    "solution, a, K = fit(x_train, y_train, C, sigma)\n",
    "alpha = a \n",
    "a, b, w = SV(a, x_train, y_train, K)  \n",
    "y_pred = predict(x_test, w, b)\n",
    "print(f\"Accuracy: {accuracy(y_test, y_pred)}\") "
   ]
  },
  {
   "cell_type": "code",
   "execution_count": 42,
   "metadata": {},
   "outputs": [
    {
     "name": "stdout",
     "output_type": "stream",
     "text": [
      "0.9999999998086938\n",
      "2.762834761041612e-10\n",
      "0.11712044087830105\n"
     ]
    }
   ],
   "source": [
    "print(max(alpha))\n",
    "print(min(alpha))\n",
    "print(np.average(alpha))"
   ]
  },
  {
   "cell_type": "code",
   "execution_count": 43,
   "metadata": {},
   "outputs": [],
   "source": [
    "u = alpha >= 1e-04\n",
    "l = alpha < 1e-04\n",
    "U = alpha[u]\n",
    "L = alpha[l] "
   ]
  },
  {
   "cell_type": "code",
   "execution_count": 44,
   "metadata": {},
   "outputs": [
    {
     "name": "stdout",
     "output_type": "stream",
     "text": [
      "(1361,)\n",
      "(239,)\n"
     ]
    }
   ],
   "source": [
    "print(L.shape)\n",
    "print(U.shape)"
   ]
  },
  {
   "cell_type": "code",
   "execution_count": 45,
   "metadata": {},
   "outputs": [],
   "source": [
    "def Kernel(x, y, sigma):\n",
    "    n_samples, n_features = x.shape\n",
    "    K = np.zeros((n_samples, n_samples))\n",
    "    for i in range(n_samples):\n",
    "        for j in range(n_samples):\n",
    "            K[i,j] = gaussian_kernel(x[i], x[j], sigma)\n",
    "    return K\n",
    "def kkt_check(alpha, x_train, y_train): \n",
    "    u = alpha >= 0.000999\n",
    "    l = alpha < 1e-04\n",
    "    U = alpha[u]\n",
    "    L = alpha[l]\n",
    "    U_y = y_train[u]\n",
    "    U_x = x_train[u]\n",
    "    L_y = y_train[l]\n",
    "    L_x = x_train[l]\n",
    "    U_ps = U[np.where(U_y > 0)]\n",
    "    U_ng = U[np.where(U_y < 0)]\n",
    "    L_ps = L[np.where(L_y > 0)]\n",
    "    L_ng = L[np.where(L_y < 0)]\n",
    "\n",
    "\n",
    "    R = np.hstack((L_ps, U_ng))\n",
    "    y_R = np.hstack(( U_y[np.where(U_y<0)], L_y[np.where(L_y>0)]))\n",
    "    x_R = np.vstack((U_x[np.where(U_y<0)], L_x[np.where(L_y>0)]))\n",
    "\n",
    "    S = np.hstack((L_ng, U_ps))\n",
    "    y_S = np.hstack((U_y[np.where(U_y>0)], L_y[np.where(L_y<0)]))\n",
    "    x_S = np.vstack((U_x[np.where(U_y>0)], L_x[np.where(L_y<0)]))\n",
    "\n",
    "        \n",
    "    K_R = Kernel(x_R, x_R, sigma)\n",
    "    K_S = Kernel(x_S, x_S, sigma)\n",
    "\n",
    "    P_R = np.outer(y_R, y_R) * K_R\n",
    "    P_S= np.outer(y_S, y_S) * K_S\n",
    "\n",
    "    df_R = np.dot(P_R, R.T) - np.ones(len(R))\n",
    "    df_S = np.dot(P_S, S.T) - np.ones(len(S))\n",
    "\n",
    "    m = -y_R*df_R\n",
    "    M = -y_S*df_S\n",
    "\n",
    "    if max(m) <= min(M):\n",
    "        print('Optimal')\n",
    "    else:\n",
    "        print('Not_Optimal')"
   ]
  },
  {
   "cell_type": "code",
   "execution_count": 46,
   "metadata": {},
   "outputs": [
    {
     "name": "stdout",
     "output_type": "stream",
     "text": [
      "Optimal\n"
     ]
    }
   ],
   "source": [
    "kkt_check(alpha, x_train, y_train)"
   ]
  }
 ],
 "metadata": {
  "kernelspec": {
   "display_name": "Python 3",
   "language": "python",
   "name": "python3"
  },
  "language_info": {
   "codemirror_mode": {
    "name": "ipython",
    "version": 3
   },
   "file_extension": ".py",
   "mimetype": "text/x-python",
   "name": "python",
   "nbconvert_exporter": "python",
   "pygments_lexer": "ipython3",
   "version": "3.10.5"
  }
 },
 "nbformat": 4,
 "nbformat_minor": 2
}
